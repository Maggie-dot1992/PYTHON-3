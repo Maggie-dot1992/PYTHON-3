{
  "nbformat": 4,
  "nbformat_minor": 0,
  "metadata": {
    "colab": {
      "provenance": []
    },
    "kernelspec": {
      "name": "python3",
      "display_name": "Python 3"
    },
    "language_info": {
      "name": "python"
    }
  },
  "cells": [
    {
      "cell_type": "code",
      "execution_count": null,
      "metadata": {
        "id": "ovcQH4WGGgZk"
      },
      "outputs": [],
      "source": []
    },
    {
      "cell_type": "code",
      "execution_count": null,
      "metadata": {
        "id": "h3H1PLQ6joRh"
      },
      "outputs": [],
      "source": [
        "# 1. Initialize the Library Collection\n",
        "# First, you'll need a list to store the books. Each book can be represented as a dictionary with keys for the title, author, and publication year.\n",
        "\n",
        "library = []\n"
      ]
    },
    {
      "cell_type": "code",
      "source": [
        "# 2. Add a New Book\n",
        "# To add a book to the library, you'll prompt the user to input the book's title, author, and publication year, and then append it to the library list.\n",
        "\n",
        "title = input(\"Enter the book title: \")\n",
        "author = input(\"Enter the book author: \")\n",
        "year = input(\"Enter the publication year: \")\n",
        "\n",
        "book = {'title': title, 'author': author, 'year': year}\n",
        "library.append(book)\n",
        "\n",
        "print(\"Book added successfully!\")\n"
      ],
      "metadata": {
        "colab": {
          "base_uri": "https://localhost:8080/"
        },
        "id": "e4SxsU52j7Bi",
        "outputId": "281898c6-2aa3-44dc-bfca-f64275cdc91b"
      },
      "execution_count": null,
      "outputs": [
        {
          "output_type": "stream",
          "name": "stdout",
          "text": [
            "Enter the book title: New testament\n",
            "Enter the book author: John\n",
            "Enter the publication year: 20 years AC\n",
            "Book added successfully!\n"
          ]
        }
      ]
    },
    {
      "cell_type": "code",
      "source": [
        "# 3. View All Books\n",
        "# To view all the books in the collection, iterate through the library list and print out each book's details.\n",
        "\n",
        "if len(library) == 0:\n",
        "    print(\"The library is empty.\")\n",
        "else:\n",
        "    for book in library:\n",
        "        print(f\"Title: {book['title']}, Author: {book['author']}, Year: {book['year']}\")\n"
      ],
      "metadata": {
        "colab": {
          "base_uri": "https://localhost:8080/"
        },
        "id": "Xk0cFWn8kHty",
        "outputId": "4c9b6319-eb33-4cfe-cc60-75a34116aa9f"
      },
      "execution_count": null,
      "outputs": [
        {
          "output_type": "stream",
          "name": "stdout",
          "text": [
            "Title: Coming to Birth, Author: Majorie Oludhe, Year: 1992\n",
            "Title: An enemy of the people, Author: John Okafor, Year: 1997\n",
            "Title: New testament, Author: John, Year: 20 years AC\n"
          ]
        }
      ]
    },
    {
      "cell_type": "code",
      "source": [
        "# 4. Search for a Book by Title\n",
        "# To search for a book, ask the user to input the title and then loop through the library list to find a match.\n",
        "\n",
        "\n"
      ],
      "metadata": {
        "colab": {
          "base_uri": "https://localhost:8080/"
        },
        "id": "wBQoGI7kkVre",
        "outputId": "094069f5-3fd6-491d-a5b7-2c4e67e797a6"
      },
      "execution_count": null,
      "outputs": [
        {
          "output_type": "stream",
          "name": "stdout",
          "text": [
            "Enter the title of the book you want to search for: Python 101\n",
            "Book not found.\n"
          ]
        }
      ]
    },
    {
      "cell_type": "code",
      "source": [
        "# 4. Search for a Book by Title\n",
        "# To search for a book, ask the user to input the title and then loop through the library list to find a match.\n",
        "\n",
        "search_title = input(\"Enter the title of the book you want to search for: \")\n",
        "found = False\n",
        "\n",
        "for book in library:\n",
        "    if book['title'].lower() == search_title.lower():\n",
        "        print(f\"Book found! Title: {book['title']}, Author: {book['author']}, Year: {book['year']}\")\n",
        "        found = True\n",
        "        break\n",
        "\n",
        "if not found:\n",
        "    print(\"Book not found.\")\n"
      ],
      "metadata": {
        "colab": {
          "base_uri": "https://localhost:8080/"
        },
        "outputId": "336937de-109f-4312-8358-d635423daa5a",
        "id": "C3n7Jmu6DsCZ"
      },
      "execution_count": null,
      "outputs": [
        {
          "output_type": "stream",
          "name": "stdout",
          "text": [
            "Enter the title of the book you want to search for: new testament\n",
            "Book found! Title: New testament, Author: John, Year: 20 years AC\n"
          ]
        }
      ]
    },
    {
      "cell_type": "code",
      "source": [
        "# 5. Update Book Information\n",
        "## To update a book, you'll search for it by title and then prompt the user to input new information for the author or publication year.\n",
        "\n",
        "update_title = input(\"Enter the title of the book you want to update: \")\n",
        "found = False\n",
        "\n",
        "for book in library:\n",
        "    if book['title'].lower() == update_title.lower():\n",
        "        new_author = input(\"Enter the new author (leave blank to keep current): \")\n",
        "        new_year = input(\"Enter the new publication year (leave blank to keep current): \")\n",
        "\n",
        "        if new_author:\n",
        "            book['author'] = new_author\n",
        "        if new_year:\n",
        "            book['year'] = new_year\n",
        "\n",
        "        print(\"Book information updated successfully!\")\n",
        "        found = True\n",
        "        break\n",
        "\n",
        "if not found:\n",
        "    print(\"Book not found.\")\n"
      ],
      "metadata": {
        "colab": {
          "base_uri": "https://localhost:8080/"
        },
        "id": "6RTrSwMqkdSv",
        "outputId": "47660aef-67c7-49e6-8570-09f41aa83208"
      },
      "execution_count": null,
      "outputs": [
        {
          "output_type": "stream",
          "name": "stdout",
          "text": [
            "Enter the title of the book you want to update: An enemy of the people\n",
            "Enter the new author (leave blank to keep current): \n",
            "Enter the new publication year (leave blank to keep current): 2000\n",
            "Book information updated successfully!\n"
          ]
        }
      ]
    },
    {
      "cell_type": "code",
      "source": [
        "# 6. Remove a Book\n",
        "## To remove a book, search for it by title and remove it from the library list if found.\n",
        "\n",
        "remove_title = input(\"Enter the title of the book you want to remove: \")\n",
        "found = False\n",
        "\n",
        "for book in library:\n",
        "    if book['title'].lower() == remove_title.lower():\n",
        "        library.remove(book)\n",
        "        print(\"Book removed successfully!\")\n",
        "        found = True\n",
        "        break\n",
        "\n",
        "if not found:\n",
        "    print(\"Book not found.\")\n"
      ],
      "metadata": {
        "colab": {
          "base_uri": "https://localhost:8080/"
        },
        "id": "vk6OMthLkqdT",
        "outputId": "0e56f8ae-e9df-40a7-f1d7-cb6e0d47b107"
      },
      "execution_count": null,
      "outputs": [
        {
          "output_type": "stream",
          "name": "stdout",
          "text": [
            "Enter the title of the book you want to remove: coming to birth\n",
            "Book removed successfully!\n"
          ]
        }
      ]
    },
    {
      "cell_type": "code",
      "source": [
        "# 6. Handle cases where the user searches or updates a book that does not exist.\n",
        "\n",
        "## 1. Handling Search Cases\n",
        "### If the user searches for a book by title and the book does not exist in the library, you should notify them that the book was not found.\n",
        "\n",
        "search_title = input(\"Enter the title of the book you want to search for: \")\n",
        "found = False\n",
        "\n",
        "for book in library:\n",
        "    if book['title'].lower() == search_title.lower():\n",
        "        print(f\"Book found! Title: {book['title']}, Author: {book['author']}, Year: {book['year']}\")\n",
        "        found = True\n",
        "        break\n",
        "\n",
        "if not found:\n",
        "    print(\"Book not found.\")\n"
      ],
      "metadata": {
        "colab": {
          "base_uri": "https://localhost:8080/"
        },
        "id": "9GPP7Lbnk4jz",
        "outputId": "9985f91f-f571-419f-8ff2-7a08d49aba89"
      },
      "execution_count": null,
      "outputs": [
        {
          "output_type": "stream",
          "name": "stdout",
          "text": [
            "Enter the title of the book you want to search for: peoples' opinion\n",
            "Book not found.\n"
          ]
        }
      ]
    },
    {
      "cell_type": "code",
      "source": [
        "## 2. Handling Update Cases\n",
        "### When the user attempts to update a book’s details, and the book is not in the library, you should inform them that the book could not be found.\n",
        "\n",
        "update_title = input(\"Enter the title of the book you want to update: \")\n",
        "found = False\n",
        "\n",
        "for book in library:\n",
        "    if book['title'].lower() == update_title.lower():\n",
        "        new_author = input(\"Enter the new author (leave blank to keep current): \")\n",
        "        new_year = input(\"Enter the new publication year (leave blank to keep current): \")\n",
        "\n",
        "        if new_author:\n",
        "            book['author'] = new_author\n",
        "        if new_year:\n",
        "            book['year'] = new_year\n",
        "\n",
        "        print(\"Book information updated successfully!\")\n",
        "        found = True\n",
        "        break\n",
        "\n",
        "if not found:\n",
        "    print(\"Book not found.\")\n"
      ],
      "metadata": {
        "colab": {
          "base_uri": "https://localhost:8080/"
        },
        "id": "-iwbYUjklafJ",
        "outputId": "5f2257b6-d6ee-4eef-f691-1f57d898958d"
      },
      "execution_count": null,
      "outputs": [
        {
          "output_type": "stream",
          "name": "stdout",
          "text": [
            "Enter the title of the book you want to update: peoples' opinion\n",
            "Book not found.\n"
          ]
        }
      ]
    },
    {
      "cell_type": "code",
      "source": [
        "## 3. Handling Removal Cases\n",
        "### Similarly, if the user tries to remove a book that does not exist, you should notify them.\n",
        "\n",
        "remove_title = input(\"Enter the title of the book you want to remove: \")\n",
        "found = False\n",
        "\n",
        "for book in library:\n",
        "    if book['title'].lower() == remove_title.lower():\n",
        "        library.remove(book)\n",
        "        print(\"Book removed successfully!\")\n",
        "        found = True\n",
        "        break\n",
        "\n",
        "if not found:\n",
        "    print(\"Book not found.\")\n"
      ],
      "metadata": {
        "colab": {
          "base_uri": "https://localhost:8080/"
        },
        "id": "4b8FvebAlllf",
        "outputId": "c72b4d06-8189-447c-e14d-986b3433dd99"
      },
      "execution_count": null,
      "outputs": [
        {
          "output_type": "stream",
          "name": "stdout",
          "text": [
            "Enter the title of the book you want to remove: kenyans\n",
            "Book not found.\n"
          ]
        }
      ]
    },
    {
      "cell_type": "code",
      "source": [],
      "metadata": {
        "id": "B5At-lMrl8pG"
      },
      "execution_count": null,
      "outputs": []
    },
    {
      "cell_type": "markdown",
      "source": [],
      "metadata": {
        "id": "AwKS3ctgmSkZ"
      }
    }
  ]
}